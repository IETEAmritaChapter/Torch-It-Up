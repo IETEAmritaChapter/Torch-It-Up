{
  "cells": [
    {
      "cell_type": "markdown",
      "metadata": {
        "id": "A3YGssV-uFDS"
      },
      "source": [
        "# PyTorch Handwritten Digit Recognition: A Comprehensive Guide\n",
        "\n",
        "<img src=\"https://media.licdn.com/dms/image/v2/C5622AQEfw4J2wKWv8A/feedshare-shrink_800/feedshare-shrink_800/0/1642765164511?e=1744243200&v=beta&t=yH-ZTqtfIB2k6cRGcutwGZMkpIH5YXiCEREd9k7tyGk\" alt=\"meme1\" width=\"400\"/>\n",
        "\n",
        "\n",
        "\n",
        "### This notebook will guide you through building a neural network to recognize handwritten digits using the MNIST dataset and PyTorch.\n",
        "\n",
        "#### 1. Importing Necessary Libraries\n",
        "This section imports essential Python libraries for building and training our neural network.  We'll use `torch` (PyTorch) and its submodules for neural network operations, `torchvision` for the MNIST dataset and image transformations, and other common libraries for data handling and visualization.\n",
        "\n",
        "These libraries provide the tools necessary to define the model, load and preprocess the data, train the network, and visualize the results. The combination of PyTorch's deep learning capabilities with standard data science tools makes this a powerful framework for image classification."
      ]
    },
    {
      "cell_type": "code",
      "execution_count": null,
      "metadata": {
        "id": "OaBtLLQUVrfn"
      },
      "outputs": [],
      "source": [
        "# ## Importing Libraries\n",
        "import torch\n",
        "import torch.nn as nn\n",
        "import torch.nn.functional as F\n",
        "import torch.optim as optim\n",
        "from torchvision import datasets, transforms\n",
        "from torch.utils.data import DataLoader\n",
        "import matplotlib.pyplot as plt\n",
        "import seaborn as sns"
      ]
    },
    {
      "cell_type": "markdown",
      "metadata": {
        "id": "ylj3mwErvlx_"
      },
      "source": [
        "## Setting up the Dataset\n",
        "\n",
        "\n",
        "This section is where we prepare our MNIST dataset for the neural network! We're essentially giving the images a \"makeover\" to help our model learn better. First, `transforms.ToTensor()` turns the images into PyTorch tensors, which are like numerical grids that the computer can easily work with.\n",
        "\n",
        "Then comes the `transforms.Normalize((0.5,), (0.5,))` part. Think of it as adjusting the brightness and contrast of the images so they're in a consistent range. Normalizing helps the neural network learn more effectively because it ensures that no single pixel has too much influence. The `(0.5,)` values are the mean and standard deviation we're using for this adjustment, kind of like setting the white balance on a camera! This transformation maps the pixel values to a range between -1 and 1."
      ]
    },
    {
      "cell_type": "code",
      "execution_count": 22,
      "metadata": {
        "id": "Z9sgaiChV5T1"
      },
      "outputs": [],
      "source": [
        "# Define transformations for normalization and conversion to tensor\n",
        "transform = transforms.Compose([\n",
        "    transforms.ToTensor(),\n",
        "    transforms.Normalize((0.5,), (0.5,))\n",
        "])"
      ]
    },
    {
      "cell_type": "markdown",
      "metadata": {
        "id": "g8-iubdpv8di"
      },
      "source": [
        "## Loading the Dataset for creating the Neural Network\n",
        "\n",
        "### MNIST Dataset Description\n",
        "\n",
        "The MNIST (Modified National Institute of Standards and Technology) dataset is a widely-used dataset in the field of machine learning and computer vision. It consists of a collection of handwritten digits, from 0 to 9, and serves as a benchmark for developing and testing machine learning algorithms. The dataset was created from samples of handwritten digits by high school students and employees of the United States Census Bureau.\n",
        "\n",
        "<img src=\"https://corochann.com/wp-content/uploads/2021/09/mnist_plot.png\" alt=\"CNN\" width=\"600\" height=\"300\" style=\"float: right; margin-left: 10px; margin-top: 20px\"/>\n",
        "\n",
        "#### Dataset Details\n",
        "\n",
        "- **Number of Classes:** 10 (Digits 0 through 9)\n",
        "- **Image Size:** 28 x 28 pixels\n",
        "- **Number of Samples:**\n",
        "  - Training Set: 60,000 images\n",
        "  - Test Set: 10,000 images\n",
        "- **Data Split:**\n",
        "  - The dataset is divided into two main parts: a training set and a test set.\n",
        "- **Format:**\n",
        "  - Each image is grayscale, with pixel values ranging from 0 (black) to 255 (white).\n",
        "  - The dataset is structured as a collection of 28x28-pixel images.\n",
        "- **Labeling:**\n",
        "  - Each image is associated with a corresponding label indicating the digit it represents.\n",
        "- **Purpose:**\n",
        "  - The MNIST dataset is commonly used for training and evaluating machine learning models, especially for tasks related to image classification, digit recognition, and deep learning.\n",
        "- **Usage:**\n",
        "  - Researchers and practitioners often use MNIST as a benchmark dataset to develop, validate, and compare image classification algorithms and deep neural networks.\n",
        "\n"
      ]
    },
    {
      "cell_type": "code",
      "execution_count": 23,
      "metadata": {
        "id": "ovmWS3PjV8ob"
      },
      "outputs": [],
      "source": [
        "# Load MNIST dataset\n",
        "train_data = datasets.MNIST(root=\"data\", train=True, download=True, transform=transform)\n",
        "test_data = datasets.MNIST(root=\"data\", train=False, download=True, transform=transform)"
      ]
    },
    {
      "cell_type": "markdown",
      "metadata": {
        "id": "uHGcON9owtYP"
      },
      "source": [
        "### DataLoader for Training and Testing\n",
        "\n",
        "This cell creates **DataLoaders** for the training and testing datasets. A DataLoader is a PyTorch utility that helps manage datasets efficiently by loading data in batches, shuffling it, and handling parallel processing.\n",
        "\n",
        "- `train_loader`: Loads the training dataset in batches of size 128 and shuffles the data to improve model generalization.\n",
        "- `test_loader`: Loads the test dataset in batches of size 128 without shuffling (since order doesn't matter during evaluation).\n",
        "\n",
        "DataLoaders make it easier to handle large datasets and optimize the training process.\n"
      ]
    },
    {
      "cell_type": "code",
      "execution_count": 24,
      "metadata": {
        "id": "2OIzglPzWLYi"
      },
      "outputs": [],
      "source": [
        "train_loader = DataLoader(train_data, batch_size=128, shuffle=True)\n",
        "test_loader = DataLoader(test_data, batch_size=128)"
      ]
    },
    {
      "cell_type": "code",
      "execution_count": 25,
      "metadata": {
        "colab": {
          "base_uri": "https://localhost:8080/"
        },
        "id": "UDfaL3twV-vE",
        "outputId": "f2fead5b-5264-4475-e06b-e788380214ef"
      },
      "outputs": [
        {
          "name": "stdout",
          "output_type": "stream",
          "text": [
            "Training data size: 60000\n",
            "Test data size: 10000\n",
            "Shape of a single image: torch.Size([28, 28])\n",
            "Labels: tensor([0, 1, 2, 3, 4, 5, 6, 7, 8, 9])\n"
          ]
        }
      ],
      "source": [
        "## Exploring the Dataset\n",
        "print(f\"Training data size: {len(train_data)}\")\n",
        "print(f\"Test data size: {len(test_data)}\")\n",
        "print(f\"Shape of a single image: {train_data.data[0].shape}\")\n",
        "print(f\"Labels: {train_data.targets.unique()}\")"
      ]
    },
    {
      "cell_type": "markdown",
      "metadata": {
        "id": "BEpmWgz_w5Mm"
      },
      "source": [
        "### Visualizing Samples from the Dataset\n",
        "\n",
        "This cell defines a function `show_images` to display some sample images from the dataset along with their corresponding labels. It:\n",
        "\n",
        "- Retrieves a batch of images and labels from the DataLoader.\n",
        "- Uses Matplotlib to plot the first 5 images in grayscale.\n",
        "- Displays the label (digit) for each image as the title.\n",
        "\n",
        "This visualization helps in understanding the structure of the dataset and verifying that the data is loaded correctly.\n"
      ]
    },
    {
      "cell_type": "code",
      "execution_count": 26,
      "metadata": {
        "colab": {
          "base_uri": "https://localhost:8080/",
          "height": 219
        },
        "id": "Qh8lWsIBWErW",
        "outputId": "d2c0618a-9d84-441e-9ec0-7416df674794"
      },
      "outputs": [
        {
          "data": {
            "image/png": "[encoded data removed]",
            "text/plain": [
              "<Figure size 1200x300 with 5 Axes>"
            ]
          },
          "metadata": {},
          "output_type": "display_data"
        }
      ],
      "source": [
        "# Visualizing some samples from the dataset\n",
        "def show_images(loader):\n",
        "    data_iter = iter(loader)\n",
        "    images, labels = next(data_iter)\n",
        "    fig, axes = plt.subplots(1, 5, figsize=(12, 3))\n",
        "    for i in range(5):\n",
        "        axes[i].imshow(images[i][0], cmap='gray')\n",
        "        axes[i].set_title(f\"Label: {labels[i]}\")\n",
        "        axes[i].axis('off')\n",
        "    plt.show()\n",
        "\n",
        "show_images(train_loader)"
      ]
    },
    {
      "cell_type": "markdown",
      "metadata": {
        "id": "pGrc8z_vyZk7"
      },
      "source": [
        "### What is a Convolutional Neural Network (CNN)?\n",
        "\n",
        "A **Convolutional Neural Network (CNN)** is a type of deep learning model specifically designed for image data. Unlike fully connected networks, CNNs take advantage of the spatial structure of images by using convolutional layers to extract features such as edges, textures, and patterns. This makes them highly effective for tasks like image classification, object detection, and more.\n",
        "\n",
        "<img src=\"https://miro.medium.com/v2/resize:fit:1100/format:webp/0*NzssUXXCX9Vs1-YP.jpeg\" alt=\"CNN\" width=\"600\" height=\"300\" style=\"float: right; margin-left: 10px; margin-top: 20px\"/>\n",
        "\n",
        "#### Key Components of a CNN:\n",
        "1. **Convolutional Layers**:\n",
        "   - These layers apply filters (kernels) to the input image to detect features like edges or textures.\n",
        "   - Each filter slides over the image, performing a mathematical operation called convolution.\n",
        "   - The result is a feature map that highlights the presence of specific patterns.\n",
        "\n",
        "2. **Pooling Layers**:\n",
        "   - Pooling layers reduce the spatial dimensions of feature maps (e.g., from 28x28 to 14x14).\n",
        "   - This helps reduce computation and makes the model more robust to small changes in the input.\n",
        "\n",
        "3. **Fully Connected Layers**:\n",
        "   - After extracting features through convolution and pooling layers, fully connected layers are used to make predictions.\n",
        "\n",
        "4. **Activation Functions**:\n",
        "   - Non-linear activation functions like ReLU are applied after each layer to introduce non-linearity into the model."
      ]
    },
    {
      "cell_type": "markdown",
      "metadata": {
        "id": "4PKQRZmFyovj"
      },
      "source": [
        "### ReLU Activation Function\n",
        "\n",
        "The **ReLU (Rectified Linear Unit)** activation function is one of the most widely used activation functions in deep learning. It is defined as:\n",
        "\n",
        "\\[\n",
        "** f(x) = max(0, x)\n",
        "\\]\n",
        "\n",
        "- For **positive inputs**, ReLU outputs the input itself.\n",
        "- For **negative inputs**, it outputs 0.\n",
        "\n",
        "<img src=\"https://www.researchgate.net/profile/Anas-Issa/publication/370465617/figure/fig2/AS:11431281155101569@1683057835840/Activation-function-ReLu-ReLu-Rectified-Linear-Activation.png\" alt=\"ReLU\" width=\"300\" height=\"300\" style=\"float: right; margin-left: 10px;\"/>\n",
        "\n",
        "#### Why is ReLU Popular?\n",
        "1. **Non-Linearity**: Adds non-linear behavior to the model, enabling it to learn complex patterns.\n",
        "2. **Efficient Computation**: Simple and computationally cheap compared to functions like sigmoid or tanh.\n",
        "3. **Avoids Vanishing Gradients**: Helps models train faster and deeper by mitigating the vanishing gradient problem.\n",
        "\n",
        "ReLU is commonly used in hidden layers of neural networks, especially in convolutional and fully connected networks, due to its simplicity and effectiveness."
      ]
    },
    {
      "cell_type": "code",
      "execution_count": 27,
      "metadata": {
        "id": "WHH5_eRYWHE9"
      },
      "outputs": [],
      "source": [
        "class ConvNet(nn.Module):\n",
        "    def __init__(self):\n",
        "        super(ConvNet, self).__init__()\n",
        "        self.conv1 = nn.Conv2d(1, 32, kernel_size=3, padding=1)\n",
        "        self.conv2 = nn.Conv2d(32, 64, kernel_size=3, padding=1)\n",
        "        self.pool = nn.MaxPool2d(2, 2)\n",
        "        self.fc1 = nn.Linear(7 * 7 * 64, 128)\n",
        "        self.fc2 = nn.Linear(128, 10)\n",
        "\n",
        "    def forward(self, x):\n",
        "        x = self.pool(F.relu(self.conv1(x)))\n",
        "        x = self.pool(F.relu(self.conv2(x)))\n",
        "        x = x.view(-1, 7 * 7 * 64)\n",
        "        x = F.relu(self.fc1(x))\n",
        "        x = self.fc2(x)\n",
        "        return F.log_softmax(x, dim=1)"
      ]
    },
    {
      "cell_type": "code",
      "execution_count": 28,
      "metadata": {
        "id": "r_G-TvStWQdy"
      },
      "outputs": [],
      "source": [
        "model = ConvNet()"
      ]
    },
    {
      "cell_type": "markdown",
      "metadata": {
        "id": "mnBu2cwMTSAB"
      },
      "source": [
        "# Adam Optimizer: A Comprehensive Guide\n",
        "\n",
        "## What is Adam?\n",
        "**Adam (Adaptive Moment Estimation)** is an adaptive learning rate optimization algorithm that combines:\n",
        "1. **Momentum** (accelerates gradients in relevant directions)\n",
        "2. **RMSprop** (adapts learning rates per-parameter)\n",
        "3. **Bias correction** (fixes initial estimation bias)\n",
        "\n",
        "Introduced in 2015 by Kingma & Ba, it's widely used as the **default optimizer** for deep learning.\n",
        "\n",
        "<img src=\"https://miro.medium.com/v2/resize:fit:1100/format:webp/0*HuWLj-nURYXgRKXP\" alt=\"ReLU\" width=\"400\" height=\"300\" style=\"float: right; margin-left: 10px;\"/>\n",
        "\n",
        "---\n",
        "## How Adam Optimizer Works\n",
        "\n",
        "Adam is an optimization algorithm that helps train neural networks efficiently. It works by combining three main strategies:\n",
        "- **Adaptive Learning Rates**: Adjusts the learning rate for each parameter individually, ensuring that each part of the network learns at its own pace.\n",
        "- **Momentum**: Keeps track of past gradients to maintain direction and speed, preventing the model from getting stuck or oscillating too much.\n",
        "- **Bias Correction**: Fixes initial estimates to ensure accurate updates from the start, preventing overreaction to early noisy gradients.\n",
        "\n",
        "By integrating these strategies, Adam achieves **efficient convergence** and is **robust to noise**, making it a popular choice for many deep learning tasks. It requires minimal tuning, often working well with default settings.\n",
        "\n"
      ]
    },
    {
      "cell_type": "markdown",
      "metadata": {
        "id": "O-ueid8mWP4l"
      },
      "source": [
        "# Cross-Entropy\n",
        "\n",
        "### **What is Cross-Entropy?**\n",
        "Cross-entropy measures the difference between two probability distributions. In machine learning, it compares:\n",
        "- **Actual distribution** (true labels, e.g., [1, 0] for \"cat\" vs. \"dog\").\n",
        "- **Predicted distribution** (model's outputs, e.g., [0.8, 0.2]).\n",
        "\n",
        "The goal is to **minimize** this difference, which improves predictions.\n",
        "\n",
        "---\n",
        "\n",
        "### **Why Use Cross-Entropy?**\n",
        "- **Perfect for Classification**: Works with probabilities (e.g., softmax/sigmoid outputs).\n",
        "- **Penalizes Confident Mistakes**: If the model is **very wrong**, cross-entropy gives a **large loss**.\n",
        "- **Efficient for Training**: Helps models learn faster by focusing on correcting errors.\n",
        "\n",
        "---\n",
        "\n",
        "\n",
        "\n",
        "### **How It Works (Intuition)**\n",
        "\n",
        "1. **Entropy Basics**:\n",
        "   - **Entropy** measures \"uncertainty\" in data.  \n",
        "     *Example*: A fair coin (max entropy) is harder to predict than a biased coin.\n",
        "\n",
        "2. **Cross-Entropy**:\n",
        "   - Measures how well the predicted probabilities match the true labels.  \n",
        "   - **Lower cross-entropy = Better predictions**.\n",
        "\n",
        "3. **Example**:  \n",
        "   - **True Label**: [1, 0] (it’s a \"cat\").  \n",
        "   - **Good Prediction**: [0.9, 0.1] → Low loss.  \n",
        "   - **Bad Prediction**: [0.1, 0.9] → High loss."
      ]
    },
    {
      "cell_type": "code",
      "execution_count": 29,
      "metadata": {
        "id": "6D75vnZoWTgU"
      },
      "outputs": [],
      "source": [
        "# ## Optimizer and Loss Function\n",
        "device = torch.device(\"cuda\" if torch.cuda.is_available() else \"cpu\")\n",
        "model.to(device)\n",
        "optimizer = optim.Adam(model.parameters(), lr=0.001)\n",
        "criterion = nn.CrossEntropyLoss()"
      ]
    },
    {
      "cell_type": "markdown",
      "metadata": {
        "id": "mm_A28ECX6yE"
      },
      "source": [
        "### Training the Model\n",
        "\n",
        "- **Model Preparation**: Sets the model to training mode.\n",
        "- **Batch Processing**: Iterates through the dataset, moving data to the GPU/CPU.\n",
        "- **Gradient Updates**: Computes predictions, calculates loss, backpropagates gradients, and updates model weights.\n",
        "- **Metrics Tracking**: Accumulates total loss and counts correct predictions to calculate accuracy.\n",
        "- **Returns**: Average loss and accuracy for the epoch.\n",
        "\n",
        "This process is repeated for multiple epochs to improve model performance.\n"
      ]
    },
    {
      "cell_type": "code",
      "execution_count": 30,
      "metadata": {
        "id": "rrSfILmtWVU_"
      },
      "outputs": [],
      "source": [
        "# ## Training the Model\n",
        "def train_model(model, loader, optimizer, criterion, device):\n",
        "    model.train()\n",
        "    epoch_loss = 0\n",
        "    correct_predictions = 0\n",
        "\n",
        "    for images, labels in loader:\n",
        "        images, labels = images.to(device), labels.to(device)\n",
        "\n",
        "        optimizer.zero_grad()\n",
        "        outputs = model(images)\n",
        "        loss = criterion(outputs, labels)\n",
        "        loss.backward()\n",
        "        optimizer.step()\n",
        "\n",
        "        epoch_loss += loss.item()\n",
        "        _, preds = torch.max(outputs.data, 1)\n",
        "        correct_predictions += (preds == labels).sum().item()\n",
        "\n",
        "    accuracy = (correct_predictions / len(loader.dataset)) * 100\n",
        "    return epoch_loss / len(loader), accuracy\n"
      ]
    },
    {
      "cell_type": "markdown",
      "metadata": {
        "id": "RB1RO8wKZRDM"
      },
      "source": [
        "### Evaluating the Model\n",
        "\n",
        "This function assesses the model's performance on a dataset (like test data). It:\n",
        "- Sets the model to evaluation mode.\n",
        "- Processes data in batches without gradient tracking.\n",
        "- Calculates total loss and counts correct predictions.\n",
        "- Returns average loss and accuracy for the dataset.\n"
      ]
    },
    {
      "cell_type": "code",
      "execution_count": 31,
      "metadata": {
        "id": "6aPoVqICWY9S"
      },
      "outputs": [],
      "source": [
        "# ## Evaluating the Model\n",
        "def evaluate_model(model, loader, criterion, device):\n",
        "    model.eval()\n",
        "    test_loss = 0.0\n",
        "    correct_predictions = 0\n",
        "\n",
        "    with torch.no_grad():\n",
        "        for images, labels in loader:\n",
        "            images, labels = images.to(device), labels.to(device)\n",
        "            outputs = model(images)\n",
        "            loss = criterion(outputs, labels)\n",
        "            test_loss += loss.item()\n",
        "\n",
        "            _, preds = torch.max(outputs.data, 1)\n",
        "            correct_predictions += (preds == labels).sum().item()\n",
        "\n",
        "    accuracy = (correct_predictions / len(loader.dataset)) * 100\n",
        "    return test_loss / len(loader), accuracy\n"
      ]
    },
    {
      "cell_type": "code",
      "execution_count": 32,
      "metadata": {
        "id": "lsCAhBsRWbrr"
      },
      "outputs": [],
      "source": [
        "# ## Training and Validation Loop\n",
        "num_epochs = 10  # Number of rounds to train the data\n",
        "train_losses, train_accuracies = [], []  # Cache all the training values in a list\n",
        "test_losses, test_accuracies = [], []   # Cache all the testing values in a list\n"
      ]
    },
    {
      "cell_type": "markdown",
      "metadata": {
        "id": "IApoJWYNZu7o"
      },
      "source": [
        "### Training Loop Execution\n",
        "\n",
        "This code runs the training process for the specified number of epochs. Each iteration:\n",
        "1. **Trains the Model**: Updates weights using training data\n",
        "2. **Evaluates the Model**: Checks performance on test data\n",
        "3. **Tracks Metrics**: Stores loss and accuracy for both sets\n",
        "4. **Prints Progress**: Shows epoch-wise results for monitoring\n",
        "\n",
        "The loop continues until all epochs complete, gradually improving model performance.\n"
      ]
    },
    {
      "cell_type": "code",
      "execution_count": 33,
      "metadata": {
        "colab": {
          "base_uri": "https://localhost:8080/"
        },
        "id": "Wk1etnQbWduu",
        "outputId": "042caf92-d1e7-4664-87eb-3815e99cbc19"
      },
      "outputs": [
        {
          "name": "stdout",
          "output_type": "stream",
          "text": [
            "Epoch 1: Train Loss: 0.1915, Train Acc: 94.17%, Test Loss: 0.0485, Test Acc: 98.42%\n",
            "Epoch 2: Train Loss: 0.0492, Train Acc: 98.46%, Test Loss: 0.0323, Test Acc: 98.89%\n",
            "Epoch 3: Train Loss: 0.0356, Train Acc: 98.87%, Test Loss: 0.0292, Test Acc: 98.95%\n",
            "Epoch 4: Train Loss: 0.0263, Train Acc: 99.15%, Test Loss: 0.0321, Test Acc: 99.01%\n",
            "Epoch 5: Train Loss: 0.0188, Train Acc: 99.43%, Test Loss: 0.0374, Test Acc: 98.85%\n",
            "Epoch 6: Train Loss: 0.0169, Train Acc: 99.45%, Test Loss: 0.0339, Test Acc: 98.87%\n",
            "Epoch 7: Train Loss: 0.0132, Train Acc: 99.57%, Test Loss: 0.0263, Test Acc: 99.22%\n",
            "Epoch 8: Train Loss: 0.0105, Train Acc: 99.66%, Test Loss: 0.0323, Test Acc: 99.03%\n",
            "Epoch 9: Train Loss: 0.0087, Train Acc: 99.70%, Test Loss: 0.0318, Test Acc: 99.13%\n",
            "Epoch 10: Train Loss: 0.0074, Train Acc: 99.76%, Test Loss: 0.0391, Test Acc: 98.84%\n"
          ]
        }
      ],
      "source": [
        "for epoch in range(num_epochs):\n",
        "    train_loss, train_acc = train_model(model, train_loader, optimizer, criterion, device)\n",
        "    test_loss, test_acc = evaluate_model(model, test_loader, criterion, device)\n",
        "\n",
        "    train_losses.append(train_loss)\n",
        "    train_accuracies.append(train_acc)\n",
        "    test_losses.append(test_loss)\n",
        "    test_accuracies.append(test_acc)\n",
        "\n",
        "    print(f\"Epoch {epoch+1}: Train Loss: {train_loss:.4f}, Train Acc: {train_acc:.2f}%, Test Loss: {test_loss:.4f}, Test Acc: {test_acc:.2f}%\")"
      ]
    },
    {
      "cell_type": "markdown",
      "metadata": {
        "id": "TUrJriQkZ2gv"
      },
      "source": [
        "### Loss Function: A Brief Overview\n",
        "\n",
        "A **loss function** is a mathematical tool used in machine learning to measure how well a model's predictions match the actual target values. It quantifies the \"error\" or \"difference\" between the predicted outputs and the true labels.\n",
        "\n",
        "- **Purpose**: Guides the training process by providing feedback on model performance.\n",
        "- **How it Works**: A higher loss indicates poor predictions, while a lower loss means better predictions.\n",
        "- **Optimization Goal**: During training, the model adjusts its parameters to minimize the loss function, improving its accuracy over time.\n",
        "\n",
        "In simple terms, the loss function acts as a guide, helping the model learn and improve by pointing out how far off its predictions are.\n"
      ]
    },
    {
      "cell_type": "code",
      "execution_count": 34,
      "metadata": {
        "colab": {
          "base_uri": "https://localhost:8080/",
          "height": 564
        },
        "id": "HUq61E5tWg5K",
        "outputId": "b828fde9-5bed-46d6-eee3-e1f4781297be"
      },
      "outputs": [
        {
          "data": {
            "text/plain": [
              "<matplotlib.legend.Legend at 0x7ab4d073a310>"
            ]
          },
          "execution_count": 34,
          "metadata": {},
          "output_type": "execute_result"
        },
        {
          "data": {
            "image/png": "[encoded data removed]",
            "text/plain": [
              "<Figure size 1200x600 with 1 Axes>"
            ]
          },
          "metadata": {},
          "output_type": "display_data"
        }
      ],
      "source": [
        "# ## Plotting Training Progress\n",
        "plt.figure(figsize=(12, 6))\n",
        "plt.subplot(1, 2, 1)\n",
        "plt.plot(range(1,num_epochs+1), train_losses, label='Train Loss')\n",
        "plt.plot(range(1,num_epochs+1), test_losses,label='Test Loss')\n",
        "plt.xlabel('Epochs')\n",
        "plt.ylabel('Loss')\n",
        "plt.legend()"
      ]
    },
    {
      "cell_type": "code",
      "execution_count": 35,
      "metadata": {
        "colab": {
          "base_uri": "https://localhost:8080/",
          "height": 452
        },
        "id": "zqP8pqQQWoFD",
        "outputId": "734c171c-0568-4c39-a60a-634b5f662f24"
      },
      "outputs": [
        {
          "data": {
            "image/png": "[encoded data removed]",
            "text/plain": [
              "<Figure size 640x480 with 1 Axes>"
            ]
          },
          "metadata": {},
          "output_type": "display_data"
        }
      ],
      "source": [
        "plt.subplot(1, 2, 2)\n",
        "plt.plot(range(1,num_epochs+1), train_accuracies,label='Train Accuracy')\n",
        "plt.plot(range(1,num_epochs+1), test_accuracies,label='Test Accuracy')\n",
        "plt.xlabel('Epochs')\n",
        "plt.ylabel('Accuracy (%)')\n",
        "plt.legend()\n",
        "\n",
        "\n",
        "plt.show()"
      ]
    },
    {
      "cell_type": "markdown",
      "metadata": {
        "id": "nc-CbwqcaYvt"
      },
      "source": [
        "### Confusion Matrix Visualization\n",
        "\n",
        "**What is a Confusion Matrix?**  \n",
        "A confusion matrix is a performance measurement tool for classification models. It shows:\n",
        "- **Rows**: True class labels (actual values)\n",
        "- **Columns**: Predicted class labels\n",
        "- **Diagonal Cells**: Correct predictions  \n",
        "- **Off-Diagonal Cells**: Misclassifications (model confusions)\n",
        "\n",
        "**Code Explanation**  \n",
        "This code:\n",
        "1. Collects all model predictions and true labels from the test dataset\n",
        "2. Uses `sklearn.metrics.confusion_matrix` to compute the matrix\n",
        "3. Visualizes it with a heatmap using `seaborn`\n",
        "4. Shows which digits (0-9) the model confuses most often\n",
        "\n",
        "**Key Insights**  \n",
        "- Helps identify patterns in model errors\n",
        "- Reveals if the model struggles with specific digit pairs (e.g., 3 vs 8)\n",
        "- Provides a clear visual of model performance across all classes\n"
      ]
    },
    {
      "cell_type": "code",
      "execution_count": 36,
      "metadata": {
        "colab": {
          "base_uri": "https://localhost:8080/",
          "height": 718
        },
        "id": "nLRcRbqiWreV",
        "outputId": "85c95213-cd27-4ed1-b17a-2d705e5a554f"
      },
      "outputs": [
        {
          "data": {
            "image/png": "[encoded data removed]",
            "text/plain": [
              "<Figure size 1000x800 with 1 Axes>"
            ]
          },
          "metadata": {},
          "output_type": "display_data"
        }
      ],
      "source": [
        "# ## Confusion Matrix Visualization\n",
        "from sklearn.metrics import confusion_matrix\n",
        "\n",
        "all_preds = []\n",
        "all_labels = []\n",
        "\n",
        "model.eval()\n",
        "with torch.no_grad():\n",
        "    for images, labels in test_loader:\n",
        "        images = images.to(device)\n",
        "        outputs = model(images)\n",
        "        _, preds = torch.max(outputs.data.cpu(), dim=1)\n",
        "        all_preds.extend(preds.numpy())\n",
        "        all_labels.extend(labels.numpy())\n",
        "\n",
        "conf_matrix = confusion_matrix(all_labels, all_preds)\n",
        "\n",
        "plt.figure(figsize=(10,8))\n",
        "sns.heatmap(conf_matrix.T,cmap=\"Blues\",annot=True,cbar=False,square=True,\n",
        "            xticklabels=[str(i) for i in range(10)],\n",
        "            yticklabels=[str(i) for i in range(10)])\n",
        "plt.xlabel(\"True Labels\")\n",
        "plt.ylabel(\"Predicted Labels\")\n",
        "plt.title(\"Confusion Matrix\")\n",
        "plt.show()"
      ]
    },
    {
      "cell_type": "code",
      "execution_count": 37,
      "metadata": {
        "colab": {
          "base_uri": "https://localhost:8080/"
        },
        "id": "CLa8n17OWvyb",
        "outputId": "cf20c626-b9ff-46ff-8405-2a404ab1e4c5"
      },
      "outputs": [
        {
          "name": "stdout",
          "output_type": "stream",
          "text": [
            "Model saved successfully.\n"
          ]
        }
      ],
      "source": [
        "# ## Saving the Model\n",
        "torch.save(model.state_dict(), \"mnist_model.pth\")\n",
        "print(\"Model saved successfully.\")"
      ]
    },
    {
      "cell_type": "code",
      "execution_count": 38,
      "metadata": {
        "colab": {
          "base_uri": "https://localhost:8080/",
          "height": 280
        },
        "id": "gYtd_h2bYG3e",
        "outputId": "9d673366-bac5-4bd8-b8e2-8e40947654c0"
      },
      "outputs": [
        {
          "data": {
            "image/png": "[encoded data removed]",
            "text/plain": [
              "<Figure size 1500x400 with 5 Axes>"
            ]
          },
          "metadata": {},
          "output_type": "display_data"
        }
      ],
      "source": [
        "# ## Prediction Section: Making Predictions on Test Images\n",
        "def predict_and_visualize(model, loader):\n",
        "    model.eval()\n",
        "\n",
        "    with torch.no_grad():\n",
        "        data_iter = iter(loader)\n",
        "        images, labels_true = next(data_iter)\n",
        "\n",
        "        # Move to device and make predictions\n",
        "        images_device = images.to(device)\n",
        "        outputs_predicted_logits = model(images_device)\n",
        "        _, predicted_labels = torch.max(outputs_predicted_logits.cpu(), dim=1)\n",
        "\n",
        "        # Visualize predictions vs true labels\n",
        "        fig, axes = plt.subplots(1, 5, figsize=(15, 4))\n",
        "\n",
        "        for i in range(5):\n",
        "            axes[i].imshow(images[i][0], cmap='gray')\n",
        "            axes[i].set_title(f\"True: {labels_true[i]}\\nPredicted: {predicted_labels[i]}\")\n",
        "            axes[i].axis('off')\n",
        "\n",
        "predict_and_visualize(model,test_loader)"
      ]
    },
    {
      "cell_type": "code",
      "execution_count": null,
      "metadata": {},
      "outputs": [],
      "source": [
        "! pip install pillow"
      ]
    },
    {
      "cell_type": "code",
      "execution_count": null,
      "metadata": {
        "colab": {
          "base_uri": "https://localhost:8080/",
          "height": 541
        },
        "id": "qqpUsPI7YPl2",
        "outputId": "40220dea-3e6b-4d8d-8722-cb4de4c70d18"
      },
      "outputs": [
        {
          "name": "stderr",
          "output_type": "stream",
          "text": [
            "<ipython-input-46-448b3cd51dca>:12: FutureWarning: You are using `torch.load` with `weights_only=False` (the current default value), which uses the default pickle module implicitly. It is possible to construct malicious pickle data which will execute arbitrary code during unpickling (See https://github.com/pytorch/pytorch/blob/main/SECURITY.md#untrusted-models for more details). In a future release, the default value for `weights_only` will be flipped to `True`. This limits the functions that could be executed during unpickling. Arbitrary objects will no longer be allowed to be loaded via this mode unless they are explicitly allowlisted by the user via `torch.serialization.add_safe_globals`. We recommend you start setting `weights_only=True` for any use case where you don't have full control of the loaded file. Please open an issue on GitHub for any issues related to this experimental feature.\n",
            "  model.load_state_dict(torch.load(\"mnist_model.pth\"))\n"
          ]
        },
        {
          "data": {
            "text/html": [
              "\n",
              "     <input type=\"file\" id=\"files-07b28ce2-5680-4a92-9938-3a5a705be79e\" name=\"files[]\" multiple disabled\n",
              "        style=\"border:none\" />\n",
              "     <output id=\"result-07b28ce2-5680-4a92-9938-3a5a705be79e\">\n",
              "      Upload widget is only available when the cell has been executed in the\n",
              "      current browser session. Please rerun this cell to enable.\n",
              "      </output>\n",
              "      <script>// Copyright 2017 Google LLC\n",
              "//\n",
              "// Licensed under the Apache License, Version 2.0 (the \"License\");\n",
              "// you may not use this file except in compliance with the License.\n",
              "// You may obtain a copy of the License at\n",
              "//\n",
              "//      http://www.apache.org/licenses/LICENSE-2.0\n",
              "//\n",
              "// Unless required by applicable law or agreed to in writing, software\n",
              "// distributed under the License is distributed on an \"AS IS\" BASIS,\n",
              "// WITHOUT WARRANTIES OR CONDITIONS OF ANY KIND, either express or implied.\n",
              "// See the License for the specific language governing permissions and\n",
              "// limitations under the License.\n",
              "\n",
              "/**\n",
              " * @fileoverview Helpers for google.colab Python module.\n",
              " */\n",
              "(function(scope) {\n",
              "function span(text, styleAttributes = {}) {\n",
              "  const element = document.createElement('span');\n",
              "  element.textContent = text;\n",
              "  for (const key of Object.keys(styleAttributes)) {\n",
              "    element.style[key] = styleAttributes[key];\n",
              "  }\n",
              "  return element;\n",
              "}\n",
              "\n",
              "// Max number of bytes which will be uploaded at a time.\n",
              "const MAX_PAYLOAD_SIZE = 100 * 1024;\n",
              "\n",
              "function _uploadFiles(inputId, outputId) {\n",
              "  const steps = uploadFilesStep(inputId, outputId);\n",
              "  const outputElement = document.getElementById(outputId);\n",
              "  // Cache steps on the outputElement to make it available for the next call\n",
              "  // to uploadFilesContinue from Python.\n",
              "  outputElement.steps = steps;\n",
              "\n",
              "  return _uploadFilesContinue(outputId);\n",
              "}\n",
              "\n",
              "// This is roughly an async generator (not supported in the browser yet),\n",
              "// where there are multiple asynchronous steps and the Python side is going\n",
              "// to poll for completion of each step.\n",
              "// This uses a Promise to block the python side on completion of each step,\n",
              "// then passes the result of the previous step as the input to the next step.\n",
              "function _uploadFilesContinue(outputId) {\n",
              "  const outputElement = document.getElementById(outputId);\n",
              "  const steps = outputElement.steps;\n",
              "\n",
              "  const next = steps.next(outputElement.lastPromiseValue);\n",
              "  return Promise.resolve(next.value.promise).then((value) => {\n",
              "    // Cache the last promise value to make it available to the next\n",
              "    // step of the generator.\n",
              "    outputElement.lastPromiseValue = value;\n",
              "    return next.value.response;\n",
              "  });\n",
              "}\n",
              "\n",
              "/**\n",
              " * Generator function which is called between each async step of the upload\n",
              " * process.\n",
              " * @param {string} inputId Element ID of the input file picker element.\n",
              " * @param {string} outputId Element ID of the output display.\n",
              " * @return {!Iterable<!Object>} Iterable of next steps.\n",
              " */\n",
              "function* uploadFilesStep(inputId, outputId) {\n",
              "  const inputElement = document.getElementById(inputId);\n",
              "  inputElement.disabled = false;\n",
              "\n",
              "  const outputElement = document.getElementById(outputId);\n",
              "  outputElement.innerHTML = '';\n",
              "\n",
              "  const pickedPromise = new Promise((resolve) => {\n",
              "    inputElement.addEventListener('change', (e) => {\n",
              "      resolve(e.target.files);\n",
              "    });\n",
              "  });\n",
              "\n",
              "  const cancel = document.createElement('button');\n",
              "  inputElement.parentElement.appendChild(cancel);\n",
              "  cancel.textContent = 'Cancel upload';\n",
              "  const cancelPromise = new Promise((resolve) => {\n",
              "    cancel.onclick = () => {\n",
              "      resolve(null);\n",
              "    };\n",
              "  });\n",
              "\n",
              "  // Wait for the user to pick the files.\n",
              "  const files = yield {\n",
              "    promise: Promise.race([pickedPromise, cancelPromise]),\n",
              "    response: {\n",
              "      action: 'starting',\n",
              "    }\n",
              "  };\n",
              "\n",
              "  cancel.remove();\n",
              "\n",
              "  // Disable the input element since further picks are not allowed.\n",
              "  inputElement.disabled = true;\n",
              "\n",
              "  if (!files) {\n",
              "    return {\n",
              "      response: {\n",
              "        action: 'complete',\n",
              "      }\n",
              "    };\n",
              "  }\n",
              "\n",
              "  for (const file of files) {\n",
              "    const li = document.createElement('li');\n",
              "    li.append(span(file.name, {fontWeight: 'bold'}));\n",
              "    li.append(span(\n",
              "        `(${file.type || 'n/a'}) - ${file.size} bytes, ` +\n",
              "        `last modified: ${\n",
              "            file.lastModifiedDate ? file.lastModifiedDate.toLocaleDateString() :\n",
              "                                    'n/a'} - `));\n",
              "    const percent = span('0% done');\n",
              "    li.appendChild(percent);\n",
              "\n",
              "    outputElement.appendChild(li);\n",
              "\n",
              "    const fileDataPromise = new Promise((resolve) => {\n",
              "      const reader = new FileReader();\n",
              "      reader.onload = (e) => {\n",
              "        resolve(e.target.result);\n",
              "      };\n",
              "      reader.readAsArrayBuffer(file);\n",
              "    });\n",
              "    // Wait for the data to be ready.\n",
              "    let fileData = yield {\n",
              "      promise: fileDataPromise,\n",
              "      response: {\n",
              "        action: 'continue',\n",
              "      }\n",
              "    };\n",
              "\n",
              "    // Use a chunked sending to avoid message size limits. See b/62115660.\n",
              "    let position = 0;\n",
              "    do {\n",
              "      const length = Math.min(fileData.byteLength - position, MAX_PAYLOAD_SIZE);\n",
              "      const chunk = new Uint8Array(fileData, position, length);\n",
              "      position += length;\n",
              "\n",
              "      const base64 = btoa(String.fromCharCode.apply(null, chunk));\n",
              "      yield {\n",
              "        response: {\n",
              "          action: 'append',\n",
              "          file: file.name,\n",
              "          data: base64,\n",
              "        },\n",
              "      };\n",
              "\n",
              "      let percentDone = fileData.byteLength === 0 ?\n",
              "          100 :\n",
              "          Math.round((position / fileData.byteLength) * 100);\n",
              "      percent.textContent = `${percentDone}% done`;\n",
              "\n",
              "    } while (position < fileData.byteLength);\n",
              "  }\n",
              "\n",
              "  // All done.\n",
              "  yield {\n",
              "    response: {\n",
              "      action: 'complete',\n",
              "    }\n",
              "  };\n",
              "}\n",
              "\n",
              "scope.google = scope.google || {};\n",
              "scope.google.colab = scope.google.colab || {};\n",
              "scope.google.colab._files = {\n",
              "  _uploadFiles,\n",
              "  _uploadFilesContinue,\n",
              "};\n",
              "})(self);\n",
              "</script> "
            ],
            "text/plain": [
              "<IPython.core.display.HTML object>"
            ]
          },
          "metadata": {},
          "output_type": "display_data"
        },
        {
          "name": "stdout",
          "output_type": "stream",
          "text": [
            "Saving 2.jpg to 2 (2).jpg\n"
          ]
        },
        {
          "data": {
            "image/png": "[encoded data removed]",
            "text/plain": [
              "<Figure size 640x480 with 1 Axes>"
            ]
          },
          "metadata": {},
          "output_type": "display_data"
        }
      ],
      "source": [
        "from PIL import Image\n",
        "\n",
        "# Load the trained model\n",
        "device = torch.device(\"cuda\" if torch.cuda.is_available() else \"cpu\")\n",
        "model = ConvNet().to(device)\n",
        "model.load_state_dict(torch.load(\"mnist_model.pth\"))\n",
        "model.eval()\n",
        "\n",
        "# Image transformation\n",
        "transform = transforms.Compose([\n",
        "    transforms.Grayscale(),\n",
        "    transforms.Resize((28, 28)),\n",
        "    transforms.ToTensor(),\n",
        "    transforms.Normalize((0.1307,), (0.3081,))\n",
        "])\n",
        "\n",
        "# Load the image from the path\n",
        "image_path = \"path_to_your_image.jpg\"  # Replace with your image path\n",
        "image = Image.open(image_path)\n",
        "\n",
        "# Preprocess the image\n",
        "image_tensor = transform(image).unsqueeze(0).to(device)\n",
        "\n",
        "# Make a prediction\n",
        "with torch.no_grad():\n",
        "    output = model(image_tensor)\n",
        "    _, predicted = torch.max(output, 1)\n",
        "\n",
        "plt.imshow(image, cmap='gray')\n",
        "plt.title(f\"Predicted Digit: {predicted.item()}\")\n",
        "plt.axis('off')\n",
        "plt.show()\n"
      ]
    },
    {
      "cell_type": "code",
      "execution_count": null,
      "metadata": {},
      "outputs": [],
      "source": []
    }
  ],
  "metadata": {
    "accelerator": "GPU",
    "colab": {
      "gpuType": "T4",
      "provenance": []
    },
    "kernelspec": {
      "display_name": "usr",
      "language": "python",
      "name": "python3"
    },
    "language_info": {
      "codemirror_mode": {
        "name": "ipython",
        "version": 3
      },
      "file_extension": ".py",
      "mimetype": "text/x-python",
      "name": "python",
      "nbconvert_exporter": "python",
      "pygments_lexer": "ipython3",
      "version": "3.12.3"
    }
  },
  "nbformat": 4,
  "nbformat_minor": 0
}
